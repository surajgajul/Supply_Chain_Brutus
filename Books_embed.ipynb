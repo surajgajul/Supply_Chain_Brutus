{
 "cells": [
  {
   "cell_type": "code",
   "execution_count": 1,
   "id": "f06ae485-b962-4c35-bd47-f2ac414fa14c",
   "metadata": {},
   "outputs": [],
   "source": [
    "from pymilvus import MilvusClient\n",
    "import numpy as np\n",
    "import os\n",
    "import openai\n",
    "from pymilvus import connections, Collection, CollectionSchema, FieldSchema, DataType\n",
    "from pypdf import PdfReader\n",
    "from langchain.text_splitter import RecursiveCharacterTextSplitter\n",
    "from tqdm import tqdm\n",
    "import numpy as np\n",
    "import hashlib\n",
    "import time\n",
    "import fitz"
   ]
  },
  {
   "cell_type": "code",
   "execution_count": 2,
   "id": "0e1a0dd0-b915-447e-8bee-ad4ec1303b23",
   "metadata": {},
   "outputs": [],
   "source": [
    "import re\n",
    "\n",
    "def clean_pdf_text(text):\n",
    "    # Replace non-breaking spaces with regular space\n",
    "    text = text.replace('\\xa0', ' ')\n",
    "    \n",
    "    # Remove line breaks that aren't followed by a new paragraph or sentence\n",
    "    text = re.sub(r'(?<!\\n)\\n(?!\\n)', ' ', text)\n",
    "    \n",
    "    # Remove extra newlines\n",
    "    text = re.sub(r'\\n+', '\\n', text)\n",
    "\n",
    "    # Collapse multiple spaces into one\n",
    "    text = re.sub(r' +', ' ', text)\n",
    "    \n",
    "    # Strip leading/trailing whitespace\n",
    "    text = text.strip()\n",
    "    \n",
    "    return text"
   ]
  },
  {
   "cell_type": "code",
   "execution_count": 3,
   "id": "3e899adb-8f96-45b5-a9da-457a2a675af7",
   "metadata": {},
   "outputs": [
    {
     "name": "stdout",
     "output_type": "stream",
     "text": [
      "Processing: 978-3-031-85508-5.pdf\n",
      "First 10 chunks:\n",
      "['International Series in Operations Research & Management Science Dmitry Ivanov Alexandre Dolgui Boris Sokolov Editors Handbook of Ripple Effects in the Supply Chain Second Edition International Series in Operations Research & Management Science Founding Editor Frederick S. Hillier Volume 276 Series Editors Camille C. Price, Department of Computer Science, Stephen F. Austin State University, Nacogdoches, USA Michel Gendreau, Dept. of Mathematical & Industrial Eng., Polytechnique de Montreal, Montréal, QC, Canada Editorial Board Members Emanuele Borgonovo, Department of Decision Sciences, Bocconi University, Milan, Italy Barry L. Nelson, Department of Industrial Engineering and Management Sciences, Northwestern University, Evanston, USA Bruce W. Patty, Veritec Solutions, Mill Valley, USA', 'Northwestern University, Evanston, USA Bruce W. Patty, Veritec Solutions, Mill Valley, USA Michael Pinedo, Stern School of Business, New York University, New York, USA Robert J. Vanderbei, Princeton University, Princeton, USA Associate Editor Joe Zhu, Business School, Worcester Polytechnic Institute, Worcester, USA The book series International Series in Operations Research and Management Science encompasses the various areas of operations research and management science. Both theoretical and applied books are included. It describes current advances anywhere in the world that are at the cutting edge of the ﬁeld. The series is aimed especially at researchers, advanced graduate students, and sophisticated practitioners. The series features three types of books: • Advanced expository books', 'sophisticated practitioners. The series features three types of books: • Advanced expository books that extend and unify our understanding of particular areas. • Research monographs that make substantial contributions to knowledge. • Handbooks that deﬁne the new state of the art in particular areas. Each handbook will be edited by a leading authority in the area who will organize a team of experts on various aspects of the topic to write individual chapters. A handbook may emphasize expository surveys or completely new advances (either research or applications) or a combination of both. The series emphasizes the following four areas: Mathematical Programming: Including linear programming, integer program- ming, nonlinear programming, interior point methods, game theory, network opti-', 'integer program- ming, nonlinear programming, interior point methods, game theory, network opti- mization models, combinatorics, equilibrium programming, complementarity the- ory, multiobjective optimization, dynamic programming, stochastic programming, complexity theory, etc. Applied Probability: Including queuing theory, simulation, renewal theory, Brownian motion and diffusion processes, decision analysis, Markov decision processes, reliability theory, forecasting, other stochastic processes motivated by applications, etc. Production and Operations Management: Including inventory theory, pro- duction scheduling, capacity planning, facility location, supply chain management, distribution systems, materials requirements planning, just-in-time systems, ﬂexible manufacturing systems,', 'systems, materials requirements planning, just-in-time systems, ﬂexible manufacturing systems, design of production lines, logistical planning, strategic issues, etc. Applications of Operations Research and Management Science: Including telecommunications, health care, capital budgeting and ﬁnance, economics, mar- keting, public policy, military operations research, humanitarian relief and disaster mitigation, service operations, transportation systems, etc. This book series is indexed in Scopus. Dmitry Ivanov • Alexandre Dolgui • Boris Sokolov Editors Handbook of Ripple Effects in the Supply Chain Second Edition Editors Dmitry Ivanov Department of Business and Economics Berlin School of Economics and Law Berlin, Germany Boris Sokolov St. Petersburg Federal Research Center of the Russian', 'and Law Berlin, Germany Boris Sokolov St. Petersburg Federal Research Center of the Russian Academy of Sciences (SPC RAS) St. Petersburg, Russia Alexandre Dolgui Department of Automation, Production and Computer Sciences IMT Atlantique, LS2N-CNRS UMR 6004 Nantes, France ISSN 0884-8289 ISSN 2214-7934 (electronic) International Series in Operations Research & Management Science ISBN 978-3-031-85507-8 ISBN 978-3-031-85508-5 (eBook) https://doi.org/10.1007/978-3-031-85508-5 © Springer Nature Switzerland AG 2019, 2025 This work is subject to copyright. All rights are solely and exclusively licensed by the Publisher, whether the whole or part of the material is concerned, speciﬁcally the rights of translation, reprinting, reuse of illustrations, recitation, broadcasting, reproduction on', 'of translation, reprinting, reuse of illustrations, recitation, broadcasting, reproduction on microﬁlms or in any other physical way, and transmission or information storage and retrieval, electronic adaptation, computer software, or by similar or dissimilar methodology now known or hereafter developed. The use of general descriptive names, registered names, trademarks, service marks, etc. in this publication does not imply, even in the absence of a speciﬁc statement, that such names are exempt from the relevant protective laws and regulations and therefore free for general use. The publisher, the authors and the editors are safe to assume that the advice and information in this book are believed to be true and accurate at the date of publication. Neither the publisher nor the authors or', 'to be true and accurate at the date of publication. Neither the publisher nor the authors or the editors give a warranty, expressed or implied, with respect to the material contained herein or for any errors or omissions that may have been made. The publisher remains neutral with regard to jurisdictional claims in published maps and institutional afﬁliations. This Springer imprint is published by the registered company Springer Nature Switzerland AG The registered company address is: Gewerbestrasse 11, 6330 Cham, Switzerland If disposing of this product, please recycle the paper. Preface Purpose and Content of the Book This handbook comprises recent developments in a new research ﬁeld of the ripple effects in supply chains (SC). Building upon success of the 1st edition of this handbook', 'the ripple effects in supply chains (SC). Building upon success of the 1st edition of this handbook published in 2019, we developed this 2nd edition. A lot has changed in our lives and SCs since 2019. The COVID-19 pandemic has changed the world. SCs have been exposed to hyper shocks, which have widely destabilized demand, supply, and logistics. Ripple effects have been rolling through SC networks at the unprecedented scale unlike any seen before. The semiconductor and container crises along with increasing geopolitical tensions (e.g., global and reciprocal tariffs in March- April 2025) came on top of the pandemic, making the ripple effect and SC stress testing important topics in SC and operations management. At the same time, rapid developments in digital technologies and artiﬁcial', 'operations management. At the same time, rapid developments in digital technologies and artiﬁcial intelligence (AI) made SCs adapt not only to negative but also to positive, technological disruptions. In this setting, it is not surprisingly that the interest in the ripple effect has been exponentially growing. New theories such as SC viability, intertwined supply networks, and reconﬁgurable SC have been developed. The ripple effect analysis using digital twins became a topic of a growing interest. AI applications to managing SC resilience and ripple effect provide new interesting research contributions. The 2nd edition of the handbook addresses both novel developments encoun- tered in 2019–2024, adding several new chapters, and presents the fundamental knowledge about the ripple effect']\n"
     ]
    }
   ],
   "source": [
    "splitter = RecursiveCharacterTextSplitter(chunk_size=800, chunk_overlap=100)\n",
    "folder_path = \"Supply_Chain_TBs\"  # Make sure this folder exists\n",
    "\n",
    "for filename in os.listdir(folder_path):\n",
    "    if filename.endswith(\".pdf\"):  # Only process PDF files\n",
    "        print(f\"Processing: {filename}\")\n",
    "        \n",
    "        # ✅ Fix: Join folder path with filename\n",
    "        file_path = os.path.join(folder_path, filename)\n",
    "        \n",
    "        try:\n",
    "            doc = fitz.open(file_path)\n",
    "            text = \"\"\n",
    "            for page in doc:\n",
    "                text += page.get_text()\n",
    "            doc.close()\n",
    "            text = clean_pdf_text(text)\n",
    "            doc_chunks = splitter.split_text(text)\n",
    "            print(\"First 10 chunks:\")\n",
    "            print(doc_chunks[:10])\n",
    "            break  # Remove this if you want to process all files\n",
    "        except Exception as e:\n",
    "            print(f\"❌ Error processing {filename}: {e}\")"
   ]
  },
  {
   "cell_type": "code",
   "execution_count": 2,
   "id": "09917952-bc67-46e8-b0ae-d6ba473c3482",
   "metadata": {},
   "outputs": [],
   "source": [
    "client = MilvusClient(\"./milvus_large3.db\")"
   ]
  },
  {
   "cell_type": "code",
   "execution_count": 8,
   "id": "5d47391e-6db4-4610-a536-1780d112ec1b",
   "metadata": {},
   "outputs": [
    {
     "name": "stdout",
     "output_type": "stream",
     "text": [
      "✅ Total vectors in collection: {'collection_name': 'all_supply_chain_books', 'auto_id': False, 'num_shards': 0, 'description': '', 'fields': [{'field_id': 100, 'name': 'id', 'description': '', 'type': <DataType.INT64: 5>, 'params': {}, 'is_primary': True}, {'field_id': 101, 'name': 'vector', 'description': '', 'type': <DataType.FLOAT_VECTOR: 101>, 'params': {'dim': 3072}}], 'functions': [], 'aliases': [], 'collection_id': 0, 'consistency_level': 0, 'properties': {}, 'num_partitions': 0, 'enable_dynamic_field': True}\n"
     ]
    }
   ],
   "source": [
    "results = client.describe_collection(\n",
    "    collection_name=\"all_supply_chain_books\"\n",
    ")\n",
    "\n",
    "print(f\"✅ Total vectors in collection: {results}\")"
   ]
  },
  {
   "cell_type": "code",
   "execution_count": 4,
   "id": "4f5b6cad-e900-4ab3-aa65-b331e07685b4",
   "metadata": {},
   "outputs": [],
   "source": [
    "from dotenv import load_dotenv\n",
    "import os\n",
    "from openai import AzureOpenAI\n",
    "\n",
    "load_dotenv()\n",
    "\n",
    "client_embed = AzureOpenAI(\n",
    "  api_key = os.getenv(\"AZURE_embed3lrg_API_KEY\"),  \n",
    "  api_version = \"2024-10-21\",\n",
    "  azure_endpoint = os.getenv(\"AZURE_embed3lrg_API_BASE\") \n",
    ")"
   ]
  },
  {
   "cell_type": "code",
   "execution_count": 6,
   "id": "9e8494d2-8808-4bbb-ab25-64c5e56d0312",
   "metadata": {},
   "outputs": [],
   "source": [
    "client.create_collection(collection_name = \"all_supply_chain_books\", dimension = 3072)\n",
    "fields = [\n",
    "    FieldSchema(name=\"id\", dtype=DataType.INT64, is_primary=True, auto_id=True),\n",
    "    FieldSchema(name=\"embedding\", dtype=DataType.FLOAT_VECTOR, dim=3072),\n",
    "    FieldSchema(name=\"text\", dtype=DataType.VARCHAR, max_length=4096),\n",
    "]\n",
    "schema = CollectionSchema(fields, description=\"Book Chunks for RAG\")"
   ]
  },
  {
   "cell_type": "code",
   "execution_count": 7,
   "id": "6e364e34-e952-42e3-a7dc-adb4157ef4fd",
   "metadata": {},
   "outputs": [
    {
     "name": "stdout",
     "output_type": "stream",
     "text": [
      "Processing: 978-3-031-85508-5.pdf\n"
     ]
    },
    {
     "name": "stderr",
     "output_type": "stream",
     "text": [
      "100%|███████████████████████████████████████| 1701/1701 [03:25<00:00,  8.28it/s]\n"
     ]
    },
    {
     "name": "stdout",
     "output_type": "stream",
     "text": [
      "Processing: 978-3-658-37103-6.pdf\n"
     ]
    },
    {
     "name": "stderr",
     "output_type": "stream",
     "text": [
      "100%|█████████████████████████████████████████| 465/465 [00:56<00:00,  8.23it/s]\n"
     ]
    },
    {
     "name": "stdout",
     "output_type": "stream",
     "text": [
      "Processing: 978-3-030-88662-2.pdf\n"
     ]
    },
    {
     "name": "stderr",
     "output_type": "stream",
     "text": [
      "100%|███████████████████████████████████████| 1206/1206 [02:27<00:00,  8.19it/s]\n"
     ]
    },
    {
     "name": "stdout",
     "output_type": "stream",
     "text": [
      "Processing: 9789286158070_pdf.pdf\n"
     ]
    },
    {
     "name": "stderr",
     "output_type": "stream",
     "text": [
      "100%|█████████████████████████████████████████| 177/177 [00:22<00:00,  7.89it/s]\n"
     ]
    },
    {
     "name": "stdout",
     "output_type": "stream",
     "text": [
      "Processing: 2021_Book_NextGenerationSupplyChains.pdf\n"
     ]
    },
    {
     "name": "stderr",
     "output_type": "stream",
     "text": [
      "100%|███████████████████████████████████████| 1120/1120 [02:18<00:00,  8.08it/s]\n"
     ]
    },
    {
     "name": "stdout",
     "output_type": "stream",
     "text": [
      "Processing: 978-3-030-98640-7.pdf\n"
     ]
    },
    {
     "name": "stderr",
     "output_type": "stream",
     "text": [
      "100%|█████████████████████████████████████████| 743/743 [01:29<00:00,  8.28it/s]\n"
     ]
    },
    {
     "name": "stdout",
     "output_type": "stream",
     "text": [
      "Processing: 978-3-031-39675-5.pdf\n"
     ]
    },
    {
     "name": "stderr",
     "output_type": "stream",
     "text": [
      "100%|███████████████████████████████████████| 1231/1231 [02:29<00:00,  8.24it/s]\n"
     ]
    },
    {
     "name": "stdout",
     "output_type": "stream",
     "text": [
      "Processing: 978-3-319-94358-9.pdf\n"
     ]
    },
    {
     "name": "stderr",
     "output_type": "stream",
     "text": [
      "100%|███████████████████████████████████████| 1727/1727 [03:32<00:00,  8.13it/s]\n"
     ]
    },
    {
     "name": "stdout",
     "output_type": "stream",
     "text": [
      "Processing: 978-981-97-1647-0.pdf\n"
     ]
    },
    {
     "name": "stderr",
     "output_type": "stream",
     "text": [
      "100%|███████████████████████████████████████| 1538/1538 [03:07<00:00,  8.19it/s]\n"
     ]
    },
    {
     "name": "stdout",
     "output_type": "stream",
     "text": [
      "Processing: Lean Warehousing.pdf\n"
     ]
    },
    {
     "name": "stderr",
     "output_type": "stream",
     "text": [
      "100%|█████████████████████████████████████████| 264/264 [00:31<00:00,  8.50it/s]\n"
     ]
    },
    {
     "name": "stdout",
     "output_type": "stream",
     "text": [
      "Processing: 9781003809401.pdf\n"
     ]
    },
    {
     "name": "stderr",
     "output_type": "stream",
     "text": [
      "100%|███████████████████████████████████████| 1041/1041 [02:03<00:00,  8.43it/s]\n"
     ]
    },
    {
     "name": "stdout",
     "output_type": "stream",
     "text": [
      "Processing: 1002050.pdf\n"
     ]
    },
    {
     "name": "stderr",
     "output_type": "stream",
     "text": [
      "100%|█████████████████████████████████████████| 583/583 [01:12<00:00,  8.05it/s]\n"
     ]
    },
    {
     "name": "stdout",
     "output_type": "stream",
     "text": [
      "Processing: 408877.pdf\n"
     ]
    },
    {
     "name": "stderr",
     "output_type": "stream",
     "text": [
      "100%|█████████████████████████████████████████| 896/896 [01:47<00:00,  8.32it/s]\n"
     ]
    },
    {
     "name": "stdout",
     "output_type": "stream",
     "text": [
      "Processing: 9781040119556.pdf\n"
     ]
    },
    {
     "name": "stderr",
     "output_type": "stream",
     "text": [
      "100%|███████████████████████████████████████| 1111/1111 [02:17<00:00,  8.09it/s]\n"
     ]
    },
    {
     "name": "stdout",
     "output_type": "stream",
     "text": [
      "Processing: LSC_Analytics_Course_Notes_Spring_2025_Edit 20250128.pdf\n"
     ]
    },
    {
     "name": "stderr",
     "output_type": "stream",
     "text": [
      "100%|█████████████████████████████████████████| 458/458 [00:55<00:00,  8.29it/s]\n"
     ]
    }
   ],
   "source": [
    "splitter = RecursiveCharacterTextSplitter(chunk_size=800, chunk_overlap=100)\n",
    "folder_path = \"Supply_Chain_TBs\"  # Make sure this folder exists\n",
    "\n",
    "counter = 0\n",
    "\n",
    "for filename in os.listdir(folder_path):\n",
    "    if filename.endswith(\".pdf\"):  # Only process PDF files\n",
    "        print(f\"Processing: {filename}\")\n",
    "        \n",
    "        # ✅ Fix: Join folder path with filename\n",
    "        file_path = os.path.join(folder_path, filename)\n",
    "        \n",
    "        try:\n",
    "            doc = fitz.open(file_path)\n",
    "            text = \"\"\n",
    "            for page in doc:\n",
    "                text += page.get_text()\n",
    "            doc.close()\n",
    "            text = clean_pdf_text(text)\n",
    "            doc_chunks = splitter.split_text(text)\n",
    "            for chunk in tqdm(doc_chunks):\n",
    "                response = client_embed.embeddings.create(\n",
    "                    input = chunk,\n",
    "                    model= \"text-embedding-3-large\"\n",
    "                )\n",
    "                data = [{\n",
    "                    \"id\": counter,\n",
    "                    \"vector\": response.data[0].embedding,\n",
    "                    \"text\": chunk,\n",
    "                    \"metadata\": {\"source\": filename}\n",
    "                }]\n",
    "                client.insert(collection_name=\"all_supply_chain_books\", data = data)\n",
    "                counter += 1\n",
    "        except Exception as e:\n",
    "            print(f\"❌ Error processing {filename}: {e}\")"
   ]
  },
  {
   "cell_type": "code",
   "execution_count": 12,
   "id": "fd6d7c1d-8881-4c20-8d54-514fcf215cf0",
   "metadata": {},
   "outputs": [
    {
     "name": "stdout",
     "output_type": "stream",
     "text": [
      "\n",
      "First 3 Inserted Records:\n",
      "\n",
      "Record 1:\n",
      "ID: 0\n",
      "Text: International Series in Operations Research & Management Science Dmitry Ivanov Alexandre Dolgui Boris Sokolov Editors Handbook of Ripple Effects in the Supply Chain Second Edition International Series in Operations Research & Management Science Founding Editor Frederick S. Hillier Volume 276 Series Editors Camille C. Price, Department of Computer Science, Stephen F. Austin State University, Nacogdoches, USA Michel Gendreau, Dept. of Mathematical & Industrial Eng., Polytechnique de Montreal, Montréal, QC, Canada Editorial Board Members Emanuele Borgonovo, Department of Decision Sciences, Bocconi University, Milan, Italy Barry L. Nelson, Department of Industrial Engineering and Management Sciences, Northwestern University, Evanston, USA Bruce W. Patty, Veritec Solutions, Mill Valley, USA...\n",
      "\n",
      "Record 2:\n",
      "ID: 1\n",
      "Text: Northwestern University, Evanston, USA Bruce W. Patty, Veritec Solutions, Mill Valley, USA Michael Pinedo, Stern School of Business, New York University, New York, USA Robert J. Vanderbei, Princeton University, Princeton, USA Associate Editor Joe Zhu, Business School, Worcester Polytechnic Institute, Worcester, USA The book series International Series in Operations Research and Management Science encompasses the various areas of operations research and management science. Both theoretical and applied books are included. It describes current advances anywhere in the world that are at the cutting edge of the ﬁeld. The series is aimed especially at researchers, advanced graduate students, and sophisticated practitioners. The series features three types of books: • Advanced expository books...\n",
      "\n",
      "Record 3:\n",
      "ID: 2\n",
      "Text: sophisticated practitioners. The series features three types of books: • Advanced expository books that extend and unify our understanding of particular areas. • Research monographs that make substantial contributions to knowledge. • Handbooks that deﬁne the new state of the art in particular areas. Each handbook will be edited by a leading authority in the area who will organize a team of experts on various aspects of the topic to write individual chapters. A handbook may emphasize expository surveys or completely new advances (either research or applications) or a combination of both. The series emphasizes the following four areas: Mathematical Programming: Including linear programming, integer program- ming, nonlinear programming, interior point methods, game theory, network opti-...\n"
     ]
    }
   ],
   "source": [
    "query_results = client.query(\n",
    "    collection_name=\"all_supply_chain_books\",\n",
    "    filter=\"\",  # No filter\n",
    "    output_fields=[\"id\", \"vector\", \"text\"],  # Fields to return\n",
    "    limit=3  # Number of records to show\n",
    ")\n",
    "\n",
    "print(\"\\nFirst 3 Inserted Records:\")\n",
    "for i, record in enumerate(query_results):\n",
    "    print(f\"\\nRecord {i+1}:\")\n",
    "    print(f\"ID: {record['id']}\")\n",
    "    print(f\"Text: {record['text']}...\")"
   ]
  },
  {
   "cell_type": "code",
   "execution_count": 24,
   "id": "2b66a186-cbd7-4469-936b-51724fe9ba8f",
   "metadata": {},
   "outputs": [],
   "source": [
    "question = \"What is ripple effect in supply chain?\"\n",
    "\n",
    "response = client_embed.embeddings.create(\n",
    "                    input = question,\n",
    "                    model= \"text-embedding-3-large\"\n",
    "                )\n",
    "search_res = client.search(\n",
    "    collection_name=\"all_supply_chain_books\",\n",
    "    data=[\n",
    "        response.data[0].embedding\n",
    "    ],  \n",
    "    limit=5,  \n",
    "    search_params={\"metric_type\": \"COSINE\", \"params\": {}},  \n",
    "    output_fields=[\"text\"],  \n",
    ")"
   ]
  },
  {
   "cell_type": "code",
   "execution_count": 25,
   "id": "b2f43d5c-3db7-4d09-9964-dd227816fde6",
   "metadata": {},
   "outputs": [
    {
     "name": "stdout",
     "output_type": "stream",
     "text": [
      "[\n",
      "    [\n",
      "        \"as an analogy to computer science, where the ripple effect determines the disruption-based scope of changes in the system (Hosseini et al., 2020; Proselkov et al., 2024). The ripple effect is a phenomenon of disruption propagations in the supply chain and their impact on output supply chain performance (e.g. sales, on-time delivery and total pro\\ufb01t). It may have more serious consequences than just short- term performance decrease. It can result in market share losses (e.g. Toyota lost its market leader position after the tsunami in 2011 and needed to redesign its supply chain coordination mechanism). The ripple effect is also known as \\u201cdomino effect\\u201d or \\u201csnowball effect.\\u201d The reasons for ripple effect are not dif\\ufb01cult to \\ufb01nd. With increasing supply chain complexity and consequent pressure\",\n",
      "        0.8194840550422668\n",
      "    ],\n",
      "    [\n",
      "        \"effect are not dif\\ufb01cult to \\ufb01nd. With increasing supply chain complexity and consequent pressure on speed and ef\\ufb01ciency, an ever-increasing number of industries come to be distributed worldwide and concentrated in industrial districts. In addition, globalized supply chains depend heavily on permanent transportation infrastructure availability. The ripple effect describes disruption propagation in the supply chain, the impact of a disruption on supply chain performance and disruption-based scope of changes in supply chain structures and parameters. Following a disruption, its effect ripples through the supply chain. The missing capacities or inventory at the disrupted facility may cause missing materials and production decrease at the next stages in the supply chain. Should the supply chain\",\n",
      "        0.7968078255653381\n",
      "    ],\n",
      "    [\n",
      "        \"and resilience. Even though a variety of valuable insights have been developed in the given area in recent years, new research avenues and ripple effect taxonomies are identi\\ufb01ed for the near future. 1 Ripple Effect in the Supply Chain: Basic De\\ufb01nitions 1.1 Supply Chain Risks and Ripple Effect Disruptions are considered high-impact-low-frequency events (e.g. \\ufb01re or tsunami) in the supply chain (SC) that change the SC\\u2019s structural design and signi\\ufb01cantly impact performance. The propagation of a disruption through an SC and its associated impact is called the ripple effect. A ripple effect is distinct from the well- known bullwhip effect. It manifests when the impact of an SC disruption cannot be D. Ivanov (\\u0002) Department of Business and Economics, Berlin School of Economics and Law, Berlin,\",\n",
      "        0.7899067401885986\n",
      "    ],\n",
      "    [\n",
      "        \"as an analogy to computer science, where the ripple effect determines the disruption-based scope of changes in the system (Goldbeck et al., 2020). The ripple effect in the supply chain occurs if a disruption cannot be localized and cascades downstream, impacting supply chain performance such as sales, stock return, service level and costs (Dolgui et al., 2018; Hosseini & Ivanov, 2022; Ivanov, 2018a; Ivanov et al., 2015; Ivanov & Dolgui, 2021; Ivanov et al., 2014a). The methodical elaborations on the evaluation and understanding of low- frequency-high-impact disruptions are therefore vital for understanding and further development of network-based supply concepts (Ivanov, 2024a, d; Liberatore et al., 2012; Sawik , 2016; Tomlin, 2006). Details of empirical or quantitative methodologies\",\n",
      "        0.7713974118232727\n",
      "    ],\n",
      "    [\n",
      "        \"b) Ripple Effect in the Supply Chain: De\\ufb01nitions, Frameworks and Future. . . 5 Table 1 Ripple effect and bullwhip effect (Dolgui et al., 2018) Feature Ripple effect Bullwhip effect What uncertainty? Hazard, deep uncertainty Random uncertainty What risks? Disruption, exceptional risks (e.g. a plant explosion) Operational, recurrent risks (e.g. demand \\ufb02uctuation) What can be disturbed? Structures and critical performance (such as supplier unavailability or revenue) Operational parameters such as lead time and inventory How are deviations prevented? Proactive redundancy and \\ufb02exibility Information coordination What happens after the disturbance? Short-term stabilization and middle- and long-term recovery; high coordination efforts and investments Short-term coordination to balance demand and\",\n",
      "        0.7496048212051392\n",
      "    ]\n",
      "]\n"
     ]
    }
   ],
   "source": [
    "import json\n",
    "\n",
    "retrieved_lines_with_distances = [\n",
    "    (res[\"entity\"][\"text\"], res[\"distance\"]) for res in search_res[0]\n",
    "]\n",
    "print(json.dumps(retrieved_lines_with_distances, indent=4))"
   ]
  },
  {
   "cell_type": "code",
   "execution_count": 14,
   "id": "8c8aaf89-f813-4634-8bcf-e27a2120b4ad",
   "metadata": {},
   "outputs": [],
   "source": [
    "context = \"\\n\".join(\n",
    "    [line_with_distance[0] for line_with_distance in retrieved_lines_with_distances]\n",
    ")"
   ]
  },
  {
   "cell_type": "code",
   "execution_count": 15,
   "id": "c9833d36-e173-4b6c-a1bc-a2344c3d3162",
   "metadata": {},
   "outputs": [],
   "source": [
    "endpoint = os.getenv(\"AZURE_AI_gpt41_API_BASE\")\n",
    "api_version = \"2025-01-01-preview\"\n",
    "api_key = os.getenv(\"AZURE_AI_gpt41_API_KEY\")\n",
    "\n",
    "client_gpt = AzureOpenAI(\n",
    "    api_version=api_version,\n",
    "    azure_endpoint=endpoint,\n",
    "    api_key=api_key,\n",
    ")"
   ]
  },
  {
   "cell_type": "code",
   "execution_count": 16,
   "id": "7d962a46-fabd-462b-a671-2649d5ad5c8d",
   "metadata": {},
   "outputs": [],
   "source": [
    "USER_PROMPT = f\"\"\"\n",
    "Use the following pieces of information enclosed in <context> tags to provide an answer to the question enclosed in <question> tags.\n",
    "<context>\n",
    "{context}\n",
    "</context>\n",
    "<question>\n",
    "{question}\n",
    "</question>\n",
    "\"\"\""
   ]
  },
  {
   "cell_type": "code",
   "execution_count": null,
   "id": "5872e690-1a55-4d92-bce3-e0f70b5d6aff",
   "metadata": {},
   "outputs": [],
   "source": [
    "SYSTEM_PROMPT = \"\"\"\n",
    "\n",
    "\"\"\""
   ]
  },
  {
   "cell_type": "code",
   "execution_count": 21,
   "id": "03e49271-81f1-4f3d-810a-de0c53c78b51",
   "metadata": {},
   "outputs": [
    {
     "name": "stdout",
     "output_type": "stream",
     "text": [
      "The ripple effect in the supply chain refers to the phenomenon where a disruption at one point in the supply chain propagates throughout the entire network, impacting overall supply chain performance. This effect can lead to issues such as decreased sales, missed on-time deliveries, reduced total profit, and even long-term consequences like market share losses. The ripple effect is triggered by high-impact, low-frequency events (e.g., natural disasters, plant explosions) that cannot be localized and thus cascade downstream, causing missing materials, production decreases, and further disruptions at subsequent stages. It is also known as the “domino effect” or “snowball effect.” The ripple effect is distinct from the bullwhip effect, as it involves structural disruptions and exceptional risks rather than operational fluctuations. Preventing or mitigating the ripple effect requires proactive redundancy, flexibility, and significant coordination efforts for both short-term stabilization and long-term recovery.\n"
     ]
    }
   ],
   "source": [
    "response = client_gpt.chat.completions.create(\n",
    "    model=api_version,\n",
    "    messages=[\n",
    "        {\"role\": \"system\", \"content\": \"You are an AI assistant. You are able to find answers to the questions from the contextual passage snippets provided\"},\n",
    "        {\"role\": \"user\", \"content\": USER_PROMPT},\n",
    "    ],\n",
    "    temperature = 0.4\n",
    ")\n",
    "print(response.choices[0].message.content)"
   ]
  },
  {
   "cell_type": "code",
   "execution_count": null,
   "id": "0e90c4c3-900f-407c-8962-e27ef2c699c9",
   "metadata": {},
   "outputs": [],
   "source": []
  },
  {
   "cell_type": "code",
   "execution_count": null,
   "id": "727c7d37-278d-45fa-9f36-b0f0cc4022d3",
   "metadata": {},
   "outputs": [],
   "source": []
  }
 ],
 "metadata": {
  "kernelspec": {
   "display_name": "Python 3 (ipykernel)",
   "language": "python",
   "name": "python3"
  },
  "language_info": {
   "codemirror_mode": {
    "name": "ipython",
    "version": 3
   },
   "file_extension": ".py",
   "mimetype": "text/x-python",
   "name": "python",
   "nbconvert_exporter": "python",
   "pygments_lexer": "ipython3",
   "version": "3.12.8"
  }
 },
 "nbformat": 4,
 "nbformat_minor": 5
}
